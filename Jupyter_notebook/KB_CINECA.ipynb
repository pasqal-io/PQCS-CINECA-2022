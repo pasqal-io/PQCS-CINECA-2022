{
 "cells": [
  {
   "cell_type": "markdown",
   "id": "73ff3589-a764-44a6-82e7-881c69d207dd",
   "metadata": {
    "tags": []
   },
   "source": [
    "file may contain typos\n",
    "\n",
    "# Installing & using Julia\n",
    "\n",
    "## Installing\n",
    "\n",
    "https://julialang.org/downloads/\n",
    "\n",
    "chose your platform and follow [[help]](https://julialang.org/downloads/platform/#linux_and_freebsd)\n",
    "\n",
    "\n",
    "Linux: \n",
    "\n",
    ">wget https://julialang-s3.julialang.org/bin/linux/x64/1.8/julia-1.8.2-linux-x86_64.tar.gz\n",
    "\n",
    ">tar zxvf julia-1.8.2-linux-x86_64.tar.gz\n",
    "\n",
    "## Workflow options :\n",
    "\n",
    "1. Terminal\n",
    "    1. scripts in files.jl\n",
    "    2. REPL\n",
    "2. Jupyter lab or notebook (needs additional installation of `IJulia` package)\n",
    "    1. Cells\n",
    "3. Visual Studio Code\n",
    "    1. Text editor + terminal\n",
    "4. others"
   ]
  },
  {
   "cell_type": "markdown",
   "id": "37849394-2c44-44ee-9602-31f26fff9da0",
   "metadata": {},
   "source": [
    "### small Julia tips\n",
    "\n",
    "Julia supports latex-like symbols \n",
    "\n",
    "instead of `alpha` one can use \\alpha\\<TAB\\> to get $\\alpha$"
   ]
  },
  {
   "cell_type": "code",
   "execution_count": 12,
   "id": "8ddb1064-b195-48fc-b6c3-707f40b8a92c",
   "metadata": {},
   "outputs": [
    {
     "data": {
      "text/plain": [
       "true"
      ]
     },
     "execution_count": 12,
     "metadata": {},
     "output_type": "execute_result"
    }
   ],
   "source": [
    "alpha = 1.0\n",
    "α = 2.0\n",
    "α > alpha "
   ]
  },
  {
   "cell_type": "markdown",
   "id": "669f1808-36ee-4087-8147-1baec5c9b764",
   "metadata": {
    "tags": []
   },
   "source": [
    "Even more!  nice indices\n",
    "\n",
    "$\\sigma^x$ = \\sigma\\<TAB\\>\\\\^x\\<TAB\\>"
   ]
  },
  {
   "cell_type": "code",
   "execution_count": 13,
   "id": "a155ee0e-22ea-48cb-ae60-c92267046e5c",
   "metadata": {},
   "outputs": [
    {
     "data": {
      "text/plain": [
       "2×2 Matrix{Int64}:\n",
       " 0  1\n",
       " 1  0"
      ]
     },
     "execution_count": 13,
     "metadata": {},
     "output_type": "execute_result"
    }
   ],
   "source": [
    "σˣ = [0 1; 1 0]"
   ]
  },
  {
   "cell_type": "markdown",
   "id": "0236808c",
   "metadata": {},
   "source": [
    "### `help` and `Pkg`\n",
    "Julia has good `help` and package manager `Pkg`.\n",
    "For help hit `?` button and type a keyword "
   ]
  },
  {
   "cell_type": "code",
   "execution_count": 14,
   "id": "ab3daf5c",
   "metadata": {},
   "outputs": [
    {
     "name": "stdout",
     "output_type": "stream",
     "text": [
      "search: low\u001b[0m\u001b[1mr\u001b[22m\u001b[0m\u001b[1ma\u001b[22m\u001b[0m\u001b[1mn\u001b[22mk\u001b[0m\u001b[1md\u001b[22m\u001b[0m\u001b[1mo\u001b[22mwndate low\u001b[0m\u001b[1mr\u001b[22m\u001b[0m\u001b[1ma\u001b[22m\u001b[0m\u001b[1mn\u001b[22mk\u001b[0m\u001b[1md\u001b[22m\u001b[0m\u001b[1mo\u001b[22mwndate! \u001b[0m\u001b[1mR\u001b[22m\u001b[0m\u001b[1ma\u001b[22m\u001b[0m\u001b[1mn\u001b[22mk\u001b[0m\u001b[1mD\u001b[22meficientExcepti\u001b[0m\u001b[1mo\u001b[22mn\n",
      "\n",
      "Couldn't find \u001b[36mrandom\u001b[39m\n",
      "Perhaps you meant rand, randn, rank, range, nand, tand or rad2deg\n"
     ]
    },
    {
     "data": {
      "text/latex": [
       "No documentation found.\n",
       "\n",
       "Binding \\texttt{random} does not exist.\n",
       "\n"
      ],
      "text/markdown": [
       "No documentation found.\n",
       "\n",
       "Binding `random` does not exist.\n"
      ],
      "text/plain": [
       "  No documentation found.\n",
       "\n",
       "  Binding \u001b[36mrandom\u001b[39m does not exist."
      ]
     },
     "execution_count": 14,
     "metadata": {},
     "output_type": "execute_result"
    }
   ],
   "source": [
    "? random"
   ]
  },
  {
   "cell_type": "code",
   "execution_count": 15,
   "id": "969c3e0b",
   "metadata": {},
   "outputs": [
    {
     "name": "stdout",
     "output_type": "stream",
     "text": [
      "search: \u001b[0m\u001b[1mr\u001b[22m\u001b[0m\u001b[1ma\u001b[22m\u001b[0m\u001b[1mn\u001b[22m\u001b[0m\u001b[1md\u001b[22m \u001b[0m\u001b[1mr\u001b[22m\u001b[0m\u001b[1ma\u001b[22m\u001b[0m\u001b[1mn\u001b[22m\u001b[0m\u001b[1md\u001b[22mn \u001b[0m\u001b[1mR\u001b[22m\u001b[0m\u001b[1ma\u001b[22m\u001b[0m\u001b[1mn\u001b[22mk\u001b[0m\u001b[1mD\u001b[22meficientException low\u001b[0m\u001b[1mr\u001b[22m\u001b[0m\u001b[1ma\u001b[22m\u001b[0m\u001b[1mn\u001b[22mk\u001b[0m\u001b[1md\u001b[22mowndate low\u001b[0m\u001b[1mr\u001b[22m\u001b[0m\u001b[1ma\u001b[22m\u001b[0m\u001b[1mn\u001b[22mk\u001b[0m\u001b[1md\u001b[22mowndate!\n",
      "\n"
     ]
    },
    {
     "data": {
      "text/latex": [
       "\\begin{verbatim}\n",
       "rand([rng=GLOBAL_RNG], [S], [dims...])\n",
       "\\end{verbatim}\n",
       "Pick a random element or array of random elements from the set of values specified by \\texttt{S}; \\texttt{S} can be\n",
       "\n",
       "\\begin{itemize}\n",
       "\\item an indexable collection (for example \\texttt{1:9} or \\texttt{('x', \"y\", :z)}),\n",
       "\n",
       "\n",
       "\\item an \\texttt{AbstractDict} or \\texttt{AbstractSet} object,\n",
       "\n",
       "\n",
       "\\item a string (considered as a collection of characters), or\n",
       "\n",
       "\n",
       "\\item a type: the set of values to pick from is then equivalent to \\texttt{typemin(S):typemax(S)} for integers (this is not applicable to \\href{@ref}{\\texttt{BigInt}}), to $[0, 1)$ for floating point numbers and to $[0, 1)+i[0, 1)$ for complex floating point numbers;\n",
       "\n",
       "\\end{itemize}\n",
       "\\texttt{S} defaults to \\href{@ref}{\\texttt{Float64}}. When only one argument is passed besides the optional \\texttt{rng} and is a \\texttt{Tuple}, it is interpreted as a collection of values (\\texttt{S}) and not as \\texttt{dims}.\n",
       "\n",
       "\\begin{quote}\n",
       "\\textbf{compat}\n",
       "\n",
       "Julia 1.1\n",
       "\n",
       "Support for \\texttt{S} as a tuple requires at least Julia 1.1.\n",
       "\n",
       "\\end{quote}\n",
       "\\section{Examples}\n",
       "\\begin{verbatim}\n",
       "julia> rand(Int, 2)\n",
       "2-element Array{Int64,1}:\n",
       " 1339893410598768192\n",
       " 1575814717733606317\n",
       "\n",
       "julia> using Random\n",
       "\n",
       "julia> rand(MersenneTwister(0), Dict(1=>2, 3=>4))\n",
       "1=>2\n",
       "\n",
       "julia> rand((2, 3))\n",
       "3\n",
       "\n",
       "julia> rand(Float64, (2, 3))\n",
       "2×3 Array{Float64,2}:\n",
       " 0.999717  0.0143835  0.540787\n",
       " 0.696556  0.783855   0.938235\n",
       "\\end{verbatim}\n",
       "\\begin{quote}\n",
       "\\textbf{note}\n",
       "\n",
       "Note\n",
       "\n",
       "The complexity of \\texttt{rand(rng, s::Union\\{AbstractDict,AbstractSet\\})} is linear in the length of \\texttt{s}, unless an optimized method with constant complexity is available, which is the case for \\texttt{Dict}, \\texttt{Set} and dense \\texttt{BitSet}s. For more than a few calls, use \\texttt{rand(rng, collect(s))} instead, or either \\texttt{rand(rng, Dict(s))} or \\texttt{rand(rng, Set(s))} as appropriate.\n",
       "\n",
       "\\end{quote}\n"
      ],
      "text/markdown": [
       "```\n",
       "rand([rng=GLOBAL_RNG], [S], [dims...])\n",
       "```\n",
       "\n",
       "Pick a random element or array of random elements from the set of values specified by `S`; `S` can be\n",
       "\n",
       "  * an indexable collection (for example `1:9` or `('x', \"y\", :z)`),\n",
       "  * an `AbstractDict` or `AbstractSet` object,\n",
       "  * a string (considered as a collection of characters), or\n",
       "  * a type: the set of values to pick from is then equivalent to `typemin(S):typemax(S)` for integers (this is not applicable to [`BigInt`](@ref)), to $[0, 1)$ for floating point numbers and to $[0, 1)+i[0, 1)$ for complex floating point numbers;\n",
       "\n",
       "`S` defaults to [`Float64`](@ref). When only one argument is passed besides the optional `rng` and is a `Tuple`, it is interpreted as a collection of values (`S`) and not as `dims`.\n",
       "\n",
       "!!! compat \"Julia 1.1\"\n",
       "    Support for `S` as a tuple requires at least Julia 1.1.\n",
       "\n",
       "\n",
       "# Examples\n",
       "\n",
       "```julia-repl\n",
       "julia> rand(Int, 2)\n",
       "2-element Array{Int64,1}:\n",
       " 1339893410598768192\n",
       " 1575814717733606317\n",
       "\n",
       "julia> using Random\n",
       "\n",
       "julia> rand(MersenneTwister(0), Dict(1=>2, 3=>4))\n",
       "1=>2\n",
       "\n",
       "julia> rand((2, 3))\n",
       "3\n",
       "\n",
       "julia> rand(Float64, (2, 3))\n",
       "2×3 Array{Float64,2}:\n",
       " 0.999717  0.0143835  0.540787\n",
       " 0.696556  0.783855   0.938235\n",
       "```\n",
       "\n",
       "!!! note\n",
       "    The complexity of `rand(rng, s::Union{AbstractDict,AbstractSet})` is linear in the length of `s`, unless an optimized method with constant complexity is available, which is the case for `Dict`, `Set` and dense `BitSet`s. For more than a few calls, use `rand(rng, collect(s))` instead, or either `rand(rng, Dict(s))` or `rand(rng, Set(s))` as appropriate.\n",
       "\n"
      ],
      "text/plain": [
       "\u001b[36m  rand([rng=GLOBAL_RNG], [S], [dims...])\u001b[39m\n",
       "\n",
       "  Pick a random element or array of random elements from the set of values\n",
       "  specified by \u001b[36mS\u001b[39m; \u001b[36mS\u001b[39m can be\n",
       "\n",
       "    •  an indexable collection (for example \u001b[36m1:9\u001b[39m or \u001b[36m('x', \"y\", :z)\u001b[39m),\n",
       "\n",
       "    •  an \u001b[36mAbstractDict\u001b[39m or \u001b[36mAbstractSet\u001b[39m object,\n",
       "\n",
       "    •  a string (considered as a collection of characters), or\n",
       "\n",
       "    •  a type: the set of values to pick from is then equivalent to\n",
       "       \u001b[36mtypemin(S):typemax(S)\u001b[39m for integers (this is not applicable to\n",
       "       \u001b[36mBigInt\u001b[39m), to \u001b[35m[0, 1)\u001b[39m for floating point numbers and to \u001b[35m[0, 1)+i[0,\n",
       "       1)\u001b[39m for complex floating point numbers;\n",
       "\n",
       "  \u001b[36mS\u001b[39m defaults to \u001b[36mFloat64\u001b[39m. When only one argument is passed besides the optional\n",
       "  \u001b[36mrng\u001b[39m and is a \u001b[36mTuple\u001b[39m, it is interpreted as a collection of values (\u001b[36mS\u001b[39m) and not\n",
       "  as \u001b[36mdims\u001b[39m.\n",
       "\n",
       "\u001b[39m\u001b[1m  │ \u001b[22m\u001b[39m\u001b[1mJulia 1.1\u001b[22m\n",
       "\u001b[39m\u001b[1m  │\u001b[22m\n",
       "\u001b[39m\u001b[1m  │\u001b[22m  Support for \u001b[36mS\u001b[39m as a tuple requires at least Julia 1.1.\n",
       "\n",
       "\u001b[1m  Examples\u001b[22m\n",
       "\u001b[1m  ≡≡≡≡≡≡≡≡≡≡\u001b[22m\n",
       "\n",
       "\u001b[36m  julia> rand(Int, 2)\u001b[39m\n",
       "\u001b[36m  2-element Array{Int64,1}:\u001b[39m\n",
       "\u001b[36m   1339893410598768192\u001b[39m\n",
       "\u001b[36m   1575814717733606317\u001b[39m\n",
       "\u001b[36m  \u001b[39m\n",
       "\u001b[36m  julia> using Random\u001b[39m\n",
       "\u001b[36m  \u001b[39m\n",
       "\u001b[36m  julia> rand(MersenneTwister(0), Dict(1=>2, 3=>4))\u001b[39m\n",
       "\u001b[36m  1=>2\u001b[39m\n",
       "\u001b[36m  \u001b[39m\n",
       "\u001b[36m  julia> rand((2, 3))\u001b[39m\n",
       "\u001b[36m  3\u001b[39m\n",
       "\u001b[36m  \u001b[39m\n",
       "\u001b[36m  julia> rand(Float64, (2, 3))\u001b[39m\n",
       "\u001b[36m  2×3 Array{Float64,2}:\u001b[39m\n",
       "\u001b[36m   0.999717  0.0143835  0.540787\u001b[39m\n",
       "\u001b[36m   0.696556  0.783855   0.938235\u001b[39m\n",
       "\n",
       "\u001b[36m\u001b[1m  │ \u001b[22m\u001b[39m\u001b[36m\u001b[1mNote\u001b[22m\u001b[39m\n",
       "\u001b[36m\u001b[1m  │\u001b[22m\u001b[39m\n",
       "\u001b[36m\u001b[1m  │\u001b[22m\u001b[39m  The complexity of \u001b[36mrand(rng, s::Union{AbstractDict,AbstractSet})\u001b[39m is\n",
       "\u001b[36m\u001b[1m  │\u001b[22m\u001b[39m  linear in the length of \u001b[36ms\u001b[39m, unless an optimized method with\n",
       "\u001b[36m\u001b[1m  │\u001b[22m\u001b[39m  constant complexity is available, which is the case for \u001b[36mDict\u001b[39m, \u001b[36mSet\u001b[39m\n",
       "\u001b[36m\u001b[1m  │\u001b[22m\u001b[39m  and dense \u001b[36mBitSet\u001b[39ms. For more than a few calls, use \u001b[36mrand(rng,\n",
       "\u001b[36m\u001b[1m  │\u001b[22m\u001b[39m  collect(s))\u001b[39m instead, or either \u001b[36mrand(rng, Dict(s))\u001b[39m or \u001b[36mrand(rng,\n",
       "\u001b[36m\u001b[1m  │\u001b[22m\u001b[39m  Set(s))\u001b[39m as appropriate."
      ]
     },
     "execution_count": 15,
     "metadata": {},
     "output_type": "execute_result"
    }
   ],
   "source": [
    "? rand"
   ]
  },
  {
   "cell_type": "markdown",
   "id": "0db5c210",
   "metadata": {},
   "source": [
    "# Packages and installation\n",
    "\n",
    "To install a package, e.g. `Plots`, in julia REPL (Read-Eval-Print loop) terminal hit `]` button and type\n",
    "`add Plots`\n",
    "\n",
    "or equivalently\n",
    "`import Pkg; Pkg.add(\"Plots\")`.\n",
    "\n",
    "To use it \n",
    "`using PkgName`"
   ]
  },
  {
   "cell_type": "code",
   "execution_count": 16,
   "id": "8c924352",
   "metadata": {},
   "outputs": [
    {
     "data": {
      "text/plain": [
       "0.42565473370306184"
      ]
     },
     "execution_count": 16,
     "metadata": {},
     "output_type": "execute_result"
    }
   ],
   "source": [
    "using Random\n",
    "rnd = rand()"
   ]
  },
  {
   "cell_type": "code",
   "execution_count": 17,
   "id": "3e65bd04",
   "metadata": {},
   "outputs": [
    {
     "data": {
      "text/plain": [
       "5-element Vector{Float64}:\n",
       " 0.8174372582614207\n",
       " 0.8267084202906579\n",
       " 0.18161429809076057\n",
       " 0.6301576312669225\n",
       " 0.05822246395085506"
      ]
     },
     "execution_count": 17,
     "metadata": {},
     "output_type": "execute_result"
    }
   ],
   "source": [
    "rnd_v = rand(5)"
   ]
  },
  {
   "cell_type": "code",
   "execution_count": 18,
   "id": "6cfcfa8b",
   "metadata": {},
   "outputs": [
    {
     "data": {
      "text/plain": [
       "5×5 Matrix{Float64}:\n",
       " 0.302954  0.839343  0.0753287  0.00448834  0.856237\n",
       " 0.952945  0.221199  0.492158   0.206204    0.309418\n",
       " 0.166847  0.649823  0.253243   0.777478    0.368335\n",
       " 0.361857  0.739037  0.250039   0.0603737   0.772568\n",
       " 0.558281  0.706662  0.534584   0.192844    0.845517"
      ]
     },
     "execution_count": 18,
     "metadata": {},
     "output_type": "execute_result"
    }
   ],
   "source": [
    "rnd_m = rand(5,5)"
   ]
  },
  {
   "cell_type": "markdown",
   "id": "7cd981b6",
   "metadata": {},
   "source": [
    "# Quantum Many-body physics\n",
    "\n",
    "### One qbit state\n",
    "$|\\psi\\rangle = |1\\rangle = |\\uparrow\\rangle = \n",
    "    \\begin{bmatrix}\n",
    "        1 \\\\\n",
    "        0 \\\\\n",
    "    \\end{bmatrix}$\n",
    "    \n",
    "$|\\psi\\rangle = |0\\rangle = |\\downarrow\\rangle = \n",
    "    \\begin{bmatrix}\n",
    "        0 \\\\\n",
    "        1 \\\\\n",
    "    \\end{bmatrix}$ \n",
    " \n",
    "\n",
    "### Many qbit system\n",
    "$|\\psi\\rangle = |1 0\\rangle = |\\uparrow \\downarrow\\rangle = \n",
    "    \\begin{bmatrix}\n",
    "        1 \\\\\n",
    "        0 \\\\\n",
    "    \\end{bmatrix} \\otimes\n",
    "    \\begin{bmatrix}\n",
    "        0 \\\\\n",
    "        1 \\\\\n",
    "    \\end{bmatrix}\n",
    "    = \\begin{bmatrix}\n",
    "        1 * \n",
    "        \\begin{bmatrix}\n",
    "            0 \\\\\n",
    "            1 \\\\\n",
    "        \\end{bmatrix}\n",
    "        \\\\ 0 * \n",
    "        \\begin{bmatrix}\n",
    "            0 \\\\\n",
    "            1 \\\\\n",
    "        \\end{bmatrix}\n",
    "    \\end{bmatrix} \n",
    "    =\n",
    "    \\begin{bmatrix}\n",
    "            0 \\\\\n",
    "            1 \\\\\n",
    "            0 \\\\\n",
    "            0 \\\\\n",
    "        \\end{bmatrix}\n",
    "    $   \n",
    "\n",
    "$\\otimes$ = \\otimes\\<TAB\\>"
   ]
  },
  {
   "cell_type": "code",
   "execution_count": 19,
   "id": "c3d2587d",
   "metadata": {},
   "outputs": [
    {
     "data": {
      "text/plain": [
       "⊗ (generic function with 1 method)"
      ]
     },
     "execution_count": 19,
     "metadata": {},
     "output_type": "execute_result"
    }
   ],
   "source": [
    "⊗(x, y) = kron(x, y)"
   ]
  },
  {
   "cell_type": "code",
   "execution_count": 20,
   "id": "26a93845",
   "metadata": {},
   "outputs": [
    {
     "data": {
      "text/plain": [
       "4-element Vector{Int64}:\n",
       " 0\n",
       " 1\n",
       " 0\n",
       " 0"
      ]
     },
     "metadata": {},
     "output_type": "display_data"
    },
    {
     "data": {
      "text/plain": [
       "4-element Vector{Int64}:\n",
       " 0\n",
       " 0\n",
       " 1\n",
       " 0"
      ]
     },
     "metadata": {},
     "output_type": "display_data"
    },
    {
     "name": "stdout",
     "output_type": "stream",
     "text": [
      "|10⟩ = [0, 1, 0, 0]\n",
      "|01⟩ = [0, 0, 1, 0]\n"
     ]
    }
   ],
   "source": [
    "up = [1, 0]; # ; allows to suppress output\n",
    "down = [0, 1];\n",
    "display(up ⊗ down)\n",
    "display(down ⊗ up)\n",
    "println(\"|10⟩ = \", up ⊗ down)\n",
    "println(\"|01⟩ = \", down ⊗ up)"
   ]
  },
  {
   "cell_type": "markdown",
   "id": "cde5931a",
   "metadata": {},
   "source": [
    "### Entangled state\n",
    "\n",
    "$|\\psi\\rangle = \\frac{|1 0\\rangle + |0 1\\rangle}{\\sqrt{2}} = \\frac{|\\uparrow \\downarrow\\rangle + |\\downarrow\\uparrow\\rangle}{\\sqrt{2}} $ \n",
    "\n",
    "\n",
    "$\\begin{bmatrix}\n",
    "           0 \\\\\n",
    "           1/\\sqrt{2} \\\\\n",
    "           0 \\\\\n",
    "           0 \\\\\n",
    "         \\end{bmatrix}$ +\n",
    "$\\begin{bmatrix}\n",
    "           0 \\\\\n",
    "           0 \\\\\n",
    "           1/\\sqrt{2} \\\\\n",
    "           0 \\\\\n",
    "         \\end{bmatrix}$ =\n",
    "$\\begin{bmatrix}\n",
    "           0 \\\\\n",
    "           1/\\sqrt{2} \\\\\n",
    "           1/\\sqrt{2} \\\\\n",
    "           0 \\\\\n",
    "         \\end{bmatrix}$"
   ]
  },
  {
   "cell_type": "code",
   "execution_count": 21,
   "id": "19ca4abe",
   "metadata": {},
   "outputs": [
    {
     "data": {
      "text/plain": [
       "4-element Vector{Float64}:\n",
       " 0.0\n",
       " 0.7071067811865475\n",
       " 0.7071067811865475\n",
       " 0.0"
      ]
     },
     "execution_count": 21,
     "metadata": {},
     "output_type": "execute_result"
    }
   ],
   "source": [
    "using LinearAlgebra\n",
    "\n",
    "ent_state = up ⊗ down + down ⊗ up\n",
    "ent_state /= norm(ent_state)\n",
    "ent_state"
   ]
  },
  {
   "cell_type": "markdown",
   "id": "75e7ffb6",
   "metadata": {},
   "source": [
    "### Many body product states"
   ]
  },
  {
   "cell_type": "code",
   "execution_count": 22,
   "id": "64d24f93",
   "metadata": {},
   "outputs": [
    {
     "data": {
      "text/plain": [
       "nbodyWF (generic function with 1 method)"
      ]
     },
     "execution_count": 22,
     "metadata": {},
     "output_type": "execute_result"
    }
   ],
   "source": [
    "function nbodyWF(n, v)\n",
    "    state = fill(v, n) # array of 2 dim vectors\n",
    "    result = foldl(⊗, state) # product state, e.g. |..↓↓↓↓..⟩ state\n",
    "    return result\n",
    "end"
   ]
  },
  {
   "cell_type": "code",
   "execution_count": 23,
   "id": "ad5422cb",
   "metadata": {},
   "outputs": [],
   "source": [
    "nbodyWF(4, down);"
   ]
  },
  {
   "cell_type": "markdown",
   "id": "6c3e7fbd",
   "metadata": {},
   "source": [
    "# Quantum many body operators\n",
    "\n",
    "$n |1\\rangle = 1 |1\\rangle$\n",
    "\n",
    "$n |0\\rangle = 0 |1\\rangle$\n",
    "\n",
    "$\\begin{bmatrix}\n",
    "           1 & 0 \\\\\n",
    "           0 & 0 \\\\\n",
    "         \\end{bmatrix}\n",
    "\\begin{bmatrix}\n",
    "           1 \\\\\n",
    "           0 \\\\\n",
    "         \\end{bmatrix}=\n",
    "         1 \\times\n",
    "\\begin{bmatrix}\n",
    "           1 \\\\\n",
    "           0 \\\\\n",
    "         \\end{bmatrix}$\n",
    "\n",
    "$\\begin{bmatrix}\n",
    "           1 & 0 \\\\\n",
    "           0 & 0 \\\\\n",
    "         \\end{bmatrix}\n",
    "\\begin{bmatrix}\n",
    "           0 \\\\\n",
    "           1 \\\\\n",
    "         \\end{bmatrix}=\n",
    "\\begin{bmatrix}\n",
    "           0 \\\\\n",
    "           0 \\\\\n",
    "         \\end{bmatrix} = 0 \\times\n",
    "\\begin{bmatrix}\n",
    "           0 \\\\\n",
    "           1 \\\\\n",
    "         \\end{bmatrix}$\n",
    "         \n",
    "$\\langle 1| n |1\\rangle = 1 \\langle 1|1\\rangle = 1$\n",
    "\n",
    "$\\langle 0| n |0\\rangle = 0 \\langle 0|0\\rangle = 0$"
   ]
  },
  {
   "cell_type": "code",
   "execution_count": 24,
   "id": "a6e0db95",
   "metadata": {},
   "outputs": [
    {
     "name": "stdout",
     "output_type": "stream",
     "text": [
      "⟨1|n|1⟩ = 1\n",
      "⟨0|n|0⟩ = 0\n"
     ]
    }
   ],
   "source": [
    "n = [1 0; 0 0];\n",
    "println(\"⟨1|n|1⟩ = \", up' * n * up) \n",
    "println(\"⟨0|n|0⟩ = \",down' * n * down)"
   ]
  },
  {
   "cell_type": "markdown",
   "id": "fe24af12",
   "metadata": {},
   "source": [
    "### 2 qbit system\n",
    "\n",
    "$n_1 = n \\otimes id$  -  acts only on the 1st qbit\n",
    "\n",
    "$n_2 = id \\otimes n$  -  acts only on the 2nd qbit"
   ]
  },
  {
   "cell_type": "code",
   "execution_count": 25,
   "id": "8db20b40",
   "metadata": {},
   "outputs": [],
   "source": [
    "id = [1 0; 0 1];\n",
    "n1 = n ⊗ id;\n",
    "n2 = id ⊗ n;\n",
    "updown = up ⊗ down;\n",
    "upup = up ⊗ up;\n",
    "downdown = down ⊗ down;\n",
    "downup = down ⊗ up;"
   ]
  },
  {
   "cell_type": "code",
   "execution_count": 26,
   "id": "494b0db5",
   "metadata": {},
   "outputs": [
    {
     "name": "stdout",
     "output_type": "stream",
     "text": [
      "⟨01|n₁|01⟩ = 0\n",
      "⟨10|n₁|10⟩ = 1\n",
      "⟨10|n₂|10⟩ = 0\n",
      "⟨11|n₂|11⟩ = 1\n"
     ]
    }
   ],
   "source": [
    "println(\"⟨01|n₁|01⟩ = \", downup' * n1 * downup)\n",
    "println(\"⟨10|n₁|10⟩ = \", updown' * n1 * updown)\n",
    "println(\"⟨10|n₂|10⟩ = \", updown' * n2 * updown)\n",
    "println(\"⟨11|n₂|11⟩ = \", upup' * n2 * upup)"
   ]
  },
  {
   "cell_type": "code",
   "execution_count": 27,
   "id": "25be0c01",
   "metadata": {},
   "outputs": [
    {
     "name": "stdout",
     "output_type": "stream",
     "text": [
      "⟨01|n₁+n₂|01⟩ = 1\n",
      "⟨10|n₁+n₂|10⟩ = 1\n",
      "⟨11|n₁+n₂|11⟩ = 2\n",
      "⟨00|n₁+n₂|00⟩ = 0\n"
     ]
    }
   ],
   "source": [
    "println(\"⟨01|n₁+n₂|01⟩ = \", downup' * (n1+n2) * downup)\n",
    "println(\"⟨10|n₁+n₂|10⟩ = \", updown' * (n1+n2) * updown)\n",
    "println(\"⟨11|n₁+n₂|11⟩ = \", upup' * (n1+n2) * upup)\n",
    "println(\"⟨00|n₁+n₂|00⟩ = \", downdown' * (n1+n2) * downdown)"
   ]
  },
  {
   "cell_type": "markdown",
   "id": "eefa7684",
   "metadata": {},
   "source": [
    "### How to construct a many body operator ?\n",
    "$n_i = id\\otimes ... id\\otimes n \\otimes id ...\\otimes id$\n",
    "\n",
    "Total number of excited qbits\n",
    "$N = \\sum n_i$\n",
    "\n",
    "#### Intecations in quantum systems\n",
    "$\\sigma^x |0\\rangle = |1\\rangle$\n",
    "\n",
    "$\\sigma^x |1\\rangle = |0\\rangle$\n",
    "\n",
    "$\\begin{bmatrix}\n",
    "           0 & 1 \\\\\n",
    "           1 & 0 \\\\\n",
    "         \\end{bmatrix}\n",
    "\\begin{bmatrix}\n",
    "           1 \\\\\n",
    "           0 \\\\\n",
    "         \\end{bmatrix}=\n",
    "\\begin{bmatrix}\n",
    "           0 \\\\\n",
    "           1 \\\\\n",
    "         \\end{bmatrix}$\n",
    "\n",
    "\n",
    "$\\begin{bmatrix}\n",
    "           0 & 1 \\\\\n",
    "           1 & 0 \\\\\n",
    "         \\end{bmatrix}\n",
    "\\begin{bmatrix}\n",
    "           0 \\\\\n",
    "           1 \\\\\n",
    "         \\end{bmatrix}=\n",
    "\\begin{bmatrix}\n",
    "           1 \\\\\n",
    "           0 \\\\\n",
    "         \\end{bmatrix}$\n",
    "\n",
    "\n",
    "$\\sigma^x_i = ... id\\otimes \\sigma^x \\otimes id ...$\n",
    "\n",
    "$n_i n_j = ... id\\otimes n \\otimes id ...id\\otimes n \\otimes id ...$"
   ]
  },
  {
   "cell_type": "markdown",
   "id": "c47694de",
   "metadata": {},
   "source": [
    "### Hamiltonian and time dynamics of quantum systems\n",
    "\n",
    "Hamiltonian == Energy function == cost function\n",
    "\n",
    "$H = -\\sum n_i$\n",
    "\n",
    "or\n",
    "\n",
    "$H = \\sum n_i n_j$\n",
    "\n",
    "or \n",
    "\n",
    "$H(t) = \\alpha(t)\\sum n_i n_j - \\beta(t)\\sum n_i$ \n",
    "\n",
    "or\n",
    "\n",
    "$H(t) = \\sum \\alpha_{ij} n_i n_j - \\delta(t)\\sum n_i + \\frac{\\Omega(t)}{2}\\sum \\sigma^x_i$ .\n",
    "\n"
   ]
  },
  {
   "cell_type": "code",
   "execution_count": 28,
   "id": "bb5dba14",
   "metadata": {},
   "outputs": [
    {
     "data": {
      "text/plain": [
       "8×8 Matrix{Float64}:\n",
       " -73.0    0.0    0.0    0.0    0.0    0.0    0.0  0.0\n",
       "   0.0  -49.0    0.0    0.0    0.0    0.0    0.0  0.0\n",
       "   0.0    0.0  -50.0    0.0    0.0    0.0    0.0  0.0\n",
       "   0.0    0.0    0.0  -25.0    0.0    0.0    0.0  0.0\n",
       "   0.0    0.0    0.0    0.0  -49.0    0.0    0.0  0.0\n",
       "   0.0    0.0    0.0    0.0    0.0  -25.0    0.0  0.0\n",
       "   0.0    0.0    0.0    0.0    0.0    0.0  -25.0  0.0\n",
       "   0.0    0.0    0.0    0.0    0.0    0.0    0.0  0.0"
      ]
     },
     "execution_count": 28,
     "metadata": {},
     "output_type": "execute_result"
    }
   ],
   "source": [
    "⊗(x, y) = kron(x, y)\n",
    "\n",
    "delta(x::Int, y::Int)= x == y ? 1.0 : 0.0\n",
    "\n",
    "using SparseArrays\n",
    "\n",
    "id = [1 0; 0 1]\n",
    "σˣ = [0 1; 1 0]\n",
    "ProjUp = [1 0; 0 0]\n",
    "\n",
    "function Op1(L, i, σ)\n",
    "    operator_string = fill(id, L)\n",
    "    operator_string[i] = σ \n",
    "    return foldl(⊗, operator_string)\n",
    "end\n",
    "\n",
    "function Op2(L, i, σ1, j, σ2)\n",
    "    operator_string = fill(id, L)\n",
    "    operator_string[i] = σ1 \n",
    "    operator_string[j] = σ2 \n",
    "    return foldl(⊗, operator_string)\n",
    "end\n",
    "\n",
    "function H(L, Ω, δ)\n",
    "    H = zeros(2^L, 2^L) ## = fill(0, 2^N, 2^N)\n",
    "    C_6 = 5420158.53\n",
    "    for i in 1:L\n",
    "        for j in i+1:L\n",
    "            if j == i + 1\n",
    "                H += Op2(L, i, ProjUp, j, ProjUp)#iteratively applies ⊗ to every element of vector 'interaction' \n",
    "            end\n",
    "        end\n",
    "        H += 0.5 * Ω * Op1(L,i, σˣ)\n",
    "        H -= 1.0 * δ * Op1(L,i, ProjUp)\n",
    "    end\n",
    "    return H #sparse(H)\n",
    "end\n",
    "\n",
    "H(3, 0.0, 25.)"
   ]
  },
  {
   "cell_type": "markdown",
   "id": "d179210e",
   "metadata": {},
   "source": [
    "Ground state(GS) is a state with minimal energy \n",
    "\n",
    "$H |GS\\rangle = E_{min} |GS\\rangle$\n",
    "\n",
    "or\n",
    "\n",
    "$\\langle GS |H |GS\\rangle = E_{min} $\n",
    "## We can make a brute force search and find a ground state !"
   ]
  },
  {
   "cell_type": "code",
   "execution_count": 29,
   "id": "b5e60899",
   "metadata": {},
   "outputs": [
    {
     "data": {
      "text/plain": [
       "ψ (generic function with 1 method)"
      ]
     },
     "execution_count": 29,
     "metadata": {},
     "output_type": "execute_result"
    }
   ],
   "source": [
    "function ψ(i,L)\n",
    "    bit_string = string(i-1; base = 2, pad = L)\n",
    "    state = fill([0, 1], L) # |..↓↓↓↓..⟩\n",
    "\n",
    "    for i in 1:L\n",
    "        if (bit_string[i] == '1')\n",
    "            state[i] = [1, 0]\n",
    "        end\n",
    "    end\n",
    "    psi = foldl(⊗, state)\n",
    "    return psi, bit_string\n",
    "end"
   ]
  },
  {
   "cell_type": "code",
   "execution_count": 30,
   "id": "c2334dfc",
   "metadata": {},
   "outputs": [
    {
     "data": {
      "text/plain": [
       "min_ψ (generic function with 1 method)"
      ]
     },
     "execution_count": 30,
     "metadata": {},
     "output_type": "execute_result"
    }
   ],
   "source": [
    "function min_ψ(Ham)\n",
    "    result = Vector{Tuple{Any,Any}}()\n",
    "    L = Int(log2(size(Ham,1)))\n",
    "    for i in 1: 2^L\n",
    "        psi, bit_string = ψ(i, L)    \n",
    "        en = psi' * Ham * psi\n",
    "        push!(result, (en,bit_string))\n",
    "    end\n",
    "    return sort(result)\n",
    "end"
   ]
  },
  {
   "cell_type": "code",
   "execution_count": 31,
   "id": "39613809",
   "metadata": {},
   "outputs": [
    {
     "data": {
      "text/plain": [
       "32-element Vector{Tuple{Any, Any}}:\n",
       " (-3.0, \"10101\")\n",
       " (-2.0, \"00101\")\n",
       " (-2.0, \"01001\")\n",
       " (-2.0, \"01010\")\n",
       " (-2.0, \"01011\")\n",
       " (-2.0, \"01101\")\n",
       " (-2.0, \"10001\")\n",
       " (-2.0, \"10010\")\n",
       " (-2.0, \"10011\")\n",
       " (-2.0, \"10100\")\n",
       " (-2.0, \"10110\")\n",
       " (-2.0, \"10111\")\n",
       " (-2.0, \"11001\")\n",
       " ⋮\n",
       " (-1.0, \"00110\")\n",
       " (-1.0, \"00111\")\n",
       " (-1.0, \"01000\")\n",
       " (-1.0, \"01100\")\n",
       " (-1.0, \"01110\")\n",
       " (-1.0, \"01111\")\n",
       " (-1.0, \"10000\")\n",
       " (-1.0, \"11000\")\n",
       " (-1.0, \"11100\")\n",
       " (-1.0, \"11110\")\n",
       " (-1.0, \"11111\")\n",
       " (0.0, \"00000\")"
      ]
     },
     "execution_count": 31,
     "metadata": {},
     "output_type": "execute_result"
    }
   ],
   "source": [
    "sort(min_ψ(H(5, 0.0, 1.0)))"
   ]
  },
  {
   "cell_type": "markdown",
   "id": "23c3de9f",
   "metadata": {},
   "source": [
    "# Time evolution\n",
    "\n",
    "Solution of the Schrodinger equation\n",
    "\n",
    "$|\\psi(t)\\rangle = e^{-iHt}|\\psi(0)\\rangle$"
   ]
  },
  {
   "cell_type": "markdown",
   "id": "fa97d763",
   "metadata": {},
   "source": [
    "![Pulse](./tutorials_afm_prep_8_0.png)"
   ]
  },
  {
   "cell_type": "code",
   "execution_count": 32,
   "id": "c9bb6288",
   "metadata": {},
   "outputs": [
    {
     "data": {
      "text/plain": [
       "H (generic function with 1 method)"
      ]
     },
     "execution_count": 32,
     "metadata": {},
     "output_type": "execute_result"
    }
   ],
   "source": [
    "#import Pkg; Pkg.add(\"JSON\")\n",
    "using LinearAlgebra\n",
    "include(\"./JSONparser.jl\")\n",
    "\n",
    "dataJSON = parse_json(\"./pulse9.json\")\n",
    "coordinates = dataJSON.coordinates\n",
    "L = length(coordinates)\n",
    "\n",
    "\n",
    "function H(coordinates, Ω, δ)\n",
    "    L = length(coordinates)\n",
    "    H = zeros(2^L, 2^L) ## = fill(0, 2^N, 2^N)\n",
    "    C_6 = 5420158.53\n",
    "    for i in 1:L\n",
    "        xi = coordinates[i].x\n",
    "        yi = coordinates[i].y\n",
    "        for j in i+1:L\n",
    "            xj = coordinates[j].x\n",
    "            yj = coordinates[j].y\n",
    "            \n",
    "            rij = sqrt((xi - xj)^2 + (yi - yj)^2)\n",
    "            coeff = C_6 / rij^6\n",
    "            \n",
    "            H += coeff * Op2(L, i, ProjUp, j, ProjUp)#iteratively applies ⊗ to every element of vector 'interaction' \n",
    "        end\n",
    "        H += 0.5 * Ω * Op1(L,i, σˣ)\n",
    "        H -= 1.0 * δ * Op1(L,i, ProjUp)\n",
    "    end\n",
    "    return H #sparse(H)\n",
    "end\n"
   ]
  },
  {
   "cell_type": "code",
   "execution_count": 40,
   "id": "1c3aa75a",
   "metadata": {},
   "outputs": [
    {
     "data": {
      "text/plain": [
       "100"
      ]
     },
     "execution_count": 40,
     "metadata": {},
     "output_type": "execute_result"
    }
   ],
   "source": [
    "dt = 100. # [nanoseconds] #execution time ≈ 36 sec\n",
    "\n",
    "pulsesequence = discretize(dataJSON.pulse, dt);\n",
    "\n",
    "length(pulsesequence)"
   ]
  },
  {
   "cell_type": "code",
   "execution_count": 41,
   "id": "76e1b5b8",
   "metadata": {},
   "outputs": [
    {
     "name": "stdout",
     "output_type": "stream",
     "text": [
      "step 1/100 \n",
      "step 2/100 \n",
      "step 3/100 \n",
      "step 4/100 \n",
      "step 5/100 \n",
      "step 6/100 \n",
      "step 7/100 \n",
      "step 8/100 \n",
      "step 9/100 \n",
      "step 10/100 \n",
      "step 11/100 \n",
      "step 12/100 \n",
      "step 13/100 \n",
      "step 14/100 \n",
      "step 15/100 \n",
      "step 16/100 \n",
      "step 17/100 \n",
      "step 18/100 \n",
      "step 19/100 \n",
      "step 20/100 \n",
      "step 21/100 \n",
      "step 22/100 \n",
      "step 23/100 \n",
      "step 24/100 \n",
      "step 25/100 \n",
      "step 26/100 \n",
      "step 27/100 \n",
      "step 28/100 \n",
      "step 29/100 \n",
      "step 30/100 \n",
      "step 31/100 \n",
      "step 32/100 \n",
      "step 33/100 \n",
      "step 34/100 \n",
      "step 35/100 \n",
      "step 36/100 \n",
      "step 37/100 \n",
      "step 38/100 \n",
      "step 39/100 \n",
      "step 40/100 \n",
      "step 41/100 \n",
      "step 42/100 \n",
      "step 43/100 \n",
      "step 44/100 \n",
      "step 45/100 \n",
      "step 46/100 \n",
      "step 47/100 \n",
      "step 48/100 \n",
      "step 49/100 \n",
      "step 50/100 \n",
      "step 51/100 \n",
      "step 52/100 \n",
      "step 53/100 \n",
      "step 54/100 \n",
      "step 55/100 \n",
      "step 56/100 \n",
      "step 57/100 \n",
      "step 58/100 \n",
      "step 59/100 \n",
      "step 60/100 \n",
      "step 61/100 \n",
      "step 62/100 \n",
      "step 63/100 \n",
      "step 64/100 \n",
      "step 65/100 \n",
      "step 66/100 \n",
      "step 67/100 \n",
      "step 68/100 \n",
      "step 69/100 \n",
      "step 70/100 \n",
      "step 71/100 \n",
      "step 72/100 \n",
      "step 73/100 \n",
      "step 74/100 \n",
      "step 75/100 \n",
      "step 76/100 \n",
      "step 77/100 \n",
      "step 78/100 \n",
      "step 79/100 \n",
      "step 80/100 \n",
      "step 81/100 \n",
      "step 82/100 \n",
      "step 83/100 \n",
      "step 84/100 \n",
      "step 85/100 \n",
      "step 86/100 \n",
      "step 87/100 \n",
      "step 88/100 \n",
      "step 89/100 \n",
      "step 90/100 \n",
      "step 91/100 \n",
      "step 92/100 \n",
      "step 93/100 \n",
      "step 94/100 \n",
      "step 95/100 \n",
      "step 96/100 \n",
      "step 97/100 \n",
      "step 98/100 \n",
      "step 99/100 \n",
      "step 100/100 \n",
      "  5.500842 seconds (134.89 k allocations: 35.454 GiB, 6.83% gc time, 0.21% compilation time)\n"
     ]
    }
   ],
   "source": [
    "using KrylovKit: exponentiate\n",
    "\n",
    "psi, bits = ψ(1, L)\n",
    "\n",
    "tonanoseconds = 1e-3\n",
    "dt *= tonanoseconds \n",
    "function run_pulse(pulsesequence, psi)\n",
    "    for (i, pulse) in enumerate(pulsesequence)\n",
    "        println(\"step $i/$(length(pulsesequence)) \")\n",
    "        Ω = pulse.omega\n",
    "        δ = pulse.delta\n",
    "        Ham = H(coordinates, Ω, δ);\n",
    "        #psi = exp(-1.0im * Ham * dt) * psi\n",
    "        psi, info = exponentiate(Ham, -1.0im * dt, psi)\n",
    "        \n",
    "    end\n",
    "    return psi\n",
    "end\n",
    "\n",
    "@time(psi = run_pulse(pulsesequence, psi)); # ≈ 36 sec\n",
    "\n"
   ]
  },
  {
   "cell_type": "code",
   "execution_count": 44,
   "id": "10afe40d",
   "metadata": {},
   "outputs": [
    {
     "data": {
      "text/plain": [
       "3×3 Matrix{Any}:\n",
       " 0.99  0.0   0.99\n",
       " 0.0   1.0   0.0\n",
       " 1.0   0.01  1.0"
      ]
     },
     "execution_count": 44,
     "metadata": {},
     "output_type": "execute_result"
    }
   ],
   "source": [
    "density = Vector{Any}()\n",
    "for i in 1:L\n",
    "    ni = psi' * Op1(L,i,ProjUp) * psi\n",
    "    r_ni = round(real(ni); digits = 2)\n",
    "    push!(density, r_ni)\n",
    "end\n",
    "reshape(density, 3, 3)"
   ]
  },
  {
   "cell_type": "code",
   "execution_count": 49,
   "id": "b5e85266",
   "metadata": {},
   "outputs": [
    {
     "data": {
      "text/plain": [
       "512-element Vector{Tuple{Any, Any}}:\n",
       " (0.992, \"101010101\")\n",
       " (0.0029, \"010011001\")\n",
       " (0.0017, \"001011001\")\n",
       " (0.0007, \"010011010\")\n",
       " (0.0006, \"100010101\")\n",
       " (0.0005, \"101010100\")\n",
       " (0.0002, \"101010001\")\n",
       " (0.0002, \"101000101\")\n",
       " (0.0001, \"101100100\")\n",
       " (0.0001, \"100000100\")\n",
       " (0.0001, \"011011001\")\n",
       " (0.0001, \"010111010\")\n",
       " (0.0001, \"001010101\")\n",
       " ⋮\n",
       " (0.0, \"000001011\")\n",
       " (0.0, \"000001010\")\n",
       " (0.0, \"000001001\")\n",
       " (0.0, \"000001000\")\n",
       " (0.0, \"000000111\")\n",
       " (0.0, \"000000110\")\n",
       " (0.0, \"000000101\")\n",
       " (0.0, \"000000100\")\n",
       " (0.0, \"000000011\")\n",
       " (0.0, \"000000010\")\n",
       " (0.0, \"000000001\")\n",
       " (0.0, \"000000000\")"
      ]
     },
     "execution_count": 49,
     "metadata": {},
     "output_type": "execute_result"
    }
   ],
   "source": [
    "bitstrings = Vector{Tuple{Any,Any}}()\n",
    "for i in 1:2^L\n",
    "    psi0, bitstring = ψ(i, L)\n",
    "    p = round(abs2(psi0' * psi); digits = 4)\n",
    "    push!(bitstrings, (p, bitstring))\n",
    "end\n",
    "sort(bitstrings; rev=true)"
   ]
  },
  {
   "cell_type": "code",
   "execution_count": 48,
   "id": "2e2289a3",
   "metadata": {},
   "outputs": [
    {
     "data": {
      "text/plain": [
       "0.9999999989999999"
      ]
     },
     "execution_count": 48,
     "metadata": {},
     "output_type": "execute_result"
    }
   ],
   "source": [
    "unzip(a) = map(x->getfield.(a, x), fieldnames(eltype(a)))\n",
    "\n",
    "total_probability = sum(unzip(bitstrings)[1])"
   ]
  },
  {
   "cell_type": "markdown",
   "id": "e171da53",
   "metadata": {},
   "source": [
    "# Applications: Maximum Independent Set (MIS)problems\n",
    "\n",
    "\n",
    "Consider an undirected graph composed of a set of vertices connected by unweighted edges. An independent set of this graph is a subset of vertices where any two elements of this subset are not connected by an edge. The Maximum Independent Set (MIS) corresponds to the largest of such subsets, and it is in general an NP-complete problem to determine the MIS of a graph.\n",
    "\n",
    "For example, assume an ensemble of identical radio transmitters over French cities that each have the same radius of transmission. It was quickly realized that two transmitters with close or equal frequencies could interfere with one another, hence the necessity to assign non-interfering frequencies to overlapping transmiting towers. Because of the limited amount of bandwidth space, some towers have to be assigned the same or close frequencies. The MIS of a graph of towers indicate the maximum number of towers that can have close or equal given frequency (red points).\n",
    "\n",
    "![MIS radio transmitters](./MIS_radio_transmitters.png)\n",
    "\n",
    "\n",
    "We can attribute a status \n",
    "$z$ to each node, where $z_i = 1$ if node $i$ is attributed to the independent set, and \n",
    "$z_i = 0$ otherwise. The Maximum Independent Set corresponds to the minima of the following cost function:\n",
    "\n",
    "$$C(z) = -\\sum z_i + U\\sum\\limits_{\\langle ij \\rangle} z_i z_j $$\n",
    "\n",
    "\n",
    "#### Small example\n",
    "A system with 3 interconnected nodes has following configuration $\\{000, 001, 010, 011, 100, 101, 110, 111\\}$\n",
    "\n",
    "Two-body term $C_2(z) = U\\sum\\limits_{\\langle ij \\rangle} z_i z_j$ \"counts\" number of connected nodes in a set\n",
    "\n",
    "$$C_2(000) = C_2(001) = C_2(010) = C_2(100) = 0,$$\n",
    "\n",
    "$$C_2(011) = C_2(101) = C_2(110) = U,$$\n",
    "\n",
    "$$C_2(111) = 3U.$$\n",
    "\n",
    "One-body term $C_1(z) = -\\sum z_i$ counts number of nodes in a set\n",
    "\n",
    "$$C_1(000) = 0,$$ \n",
    "\n",
    "$$C_1(001) = C_1(010) = C_1(100) = -1,$$\n",
    "\n",
    "$$C_1(011) = C_1(101) = C_1(110) = -2,$$\n",
    "\n",
    "$$C_1(111) = -3.$$\n",
    "\n",
    "and, therefore the full cost function $C(z) = C_1(z) + C_2(z)$ minimazes(nulls) number of pairs and maximizes number of nodes\n",
    "\n",
    "$$C(001) = C(010) = C(100) = -1,$$\n",
    "\n",
    "$$C(000) = 0,$$ \n",
    "\n",
    "$$C(011) = C(101) = C(110) = U-2,$$\n",
    "\n",
    "$$C(111) = 3(U - 1).$$\n",
    "\n",
    "For $U >> 1$ minimum for $C(z)$ is acchieved by $\\{100, 010, 001\\}$\n"
   ]
  },
  {
   "cell_type": "markdown",
   "id": "43770ca8",
   "metadata": {},
   "source": [
    "## Quantum version\n",
    "\n",
    "\n",
    "Interestingly, the operator $\\hat{C}(z)$ associated with the cost function of the previous equation can be natively realized on a neutral atom platform with some constraints on the graph edges. We map a ground state and a Rydberg state of each atom to a two-level system, where \n",
    "$$|1⟩ =|r⟩$$ is a Rydberg state and \n",
    "$$|0⟩=|g⟩$$ is a ground state. \n",
    "An atom in a Rydberg state has an excited electron with a very high principal quantum number and therefore exhibits a huge electric dipole moment. As such, when two atoms are excited to Rydberg states, they exhibit a strong van der Waals interaction $U>>1$. Placing \n",
    "$N$ atoms at positions \n",
    "$r_j$\n",
    "in a 2D plane, and coupling the ground state \n",
    "$|0⟩$\n",
    "to the Rydberg state \n",
    "$|1⟩$\n",
    "with a laser system enables the realization of the Hamiltonian :\n",
    "$$\\hat{C} = H = \\sum\\limits_{i=1}^{N} \\frac{\\Omega}{2} \\sigma^x_i - \\sum\\limits_{i=1}^{N} \\frac{\\delta}{2}\\sigma^z_i + \\sum\\limits_{i<j} \\frac{C_6}{|r_i-r_j|^6} n_i n_j$$"
   ]
  },
  {
   "cell_type": "code",
   "execution_count": null,
   "id": "f45155b4",
   "metadata": {},
   "outputs": [],
   "source": []
  },
  {
   "cell_type": "code",
   "execution_count": null,
   "id": "57dac33e",
   "metadata": {},
   "outputs": [],
   "source": []
  }
 ],
 "metadata": {
  "kernelspec": {
   "display_name": "Julia 1.8.2",
   "language": "julia",
   "name": "julia-1.8"
  },
  "language_info": {
   "file_extension": ".jl",
   "mimetype": "application/julia",
   "name": "julia",
   "version": "1.8.2"
  }
 },
 "nbformat": 4,
 "nbformat_minor": 5
}
