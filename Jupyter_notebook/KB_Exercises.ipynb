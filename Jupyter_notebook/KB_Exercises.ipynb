{
 "cells": [
  {
   "cell_type": "markdown",
   "id": "21e4894b",
   "metadata": {},
   "source": [
    "Julia language\n",
    "\n",
    "## Exercise 1 ( 10 min )\n",
    "\n",
    "(a) write a function that constructs a quantum `state` in z-basis for N qbit system in vector format.\n",
    "\n",
    "Input : string of bits \"..000101101..\"\n",
    "\n",
    "(b) write a function that constructs a quantum `Hamiltonian` for N qbit system in matrix format\n",
    "\n",
    "$H = \\sum n_i n_{i+1} - \\mu\\sum n_i$\n",
    "\n",
    "where $n = \\begin{bmatrix}\n",
    "           1 & 0 \\\\\n",
    "           0 & 0 \\\\\n",
    "         \\end{bmatrix}$\n",
    "         \n",
    "Input: number of qbits N and chemical potential $\\mu$ \n",
    "\n",
    "\n",
    "hint: one can apply kronecker product iteratively with `foldl(⊗, container)`\n"
   ]
  },
  {
   "cell_type": "code",
   "execution_count": 6,
   "id": "fe85586b",
   "metadata": {},
   "outputs": [
    {
     "data": {
      "text/plain": [
       "Ham (generic function with 1 method)"
      ]
     },
     "execution_count": 6,
     "metadata": {},
     "output_type": "execute_result"
    }
   ],
   "source": [
    "⊗(x, y) = kron(x, y)\n",
    "\n",
    "\n",
    "function psi(bitstring)\n",
    "\n",
    "    #your code\n",
    "    \n",
    "    return foldl(⊗, state)\n",
    "end\n",
    "\n",
    "\n",
    "\n",
    "function Ham(N, μ)  # μ is \\mu<TAB>\n",
    "    id = [1 0; 0 1]\n",
    "    ProjUp = [1 0; 0 0]\n",
    "    H = zeros(2^N, 2^N)\n",
    "\n",
    "    #your code\n",
    "\n",
    "    return H\n",
    "end\n",
    "\n"
   ]
  },
  {
   "cell_type": "markdown",
   "id": "e2b00e64",
   "metadata": {},
   "source": [
    "## Exercise 2 ( 10 min )\n",
    "\n",
    "write a function that returns a product state(s) with minimal energy, i.e. \n",
    "\n",
    "$|\\psi\\rangle : \\langle \\psi |H(N, \\mu)| \\psi \\rangle = E_{min}$\n",
    "\n",
    "among z-basis states (\"..000101101..\").\n",
    "\n",
    "$H = \\sum n_i n_{i+1} - \\mu\\sum n_i$\n",
    "\n",
    "\n",
    "answer should have a following format `Pair(\"..0100100..\", psi)`\n",
    "\n",
    "hint: function that translates integer to bitsting is `string(i; base = 2, pad = string_length)`\n"
   ]
  },
  {
   "cell_type": "code",
   "execution_count": 7,
   "id": "1f493ce6",
   "metadata": {},
   "outputs": [
    {
     "data": {
      "text/plain": [
       "psi_min (generic function with 1 method)"
      ]
     },
     "execution_count": 7,
     "metadata": {},
     "output_type": "execute_result"
    }
   ],
   "source": [
    "function psi_min(H)\n",
    "    s=size(H, 1) #size along dim 1\n",
    "    N = Int(log2(s))\n",
    "    energy = Dict{String,Number}()\n",
    "    \n",
    "\n",
    "    return # modified energy Dict\n",
    "end"
   ]
  },
  {
   "cell_type": "markdown",
   "id": "00618a92",
   "metadata": {},
   "source": [
    "## Exercise 3 ( 5 min )\n",
    "\n",
    "Write `time_evolution` function, that evolves a state in time from 0 to `T` with time step `dt`. \n",
    "Evolution operator is $e^{-iHt}$\n",
    "\n",
    "\n",
    "hint: its much cheaper to compute $e^{At} * v$ then $e^{At}$ and apply it to $v$.\n",
    "\n",
    "hint: one can test `time_evolution` implementation with complex random normalized vector of size `2^N`\n",
    "\n",
    "Use `exponentiate` by `using KrylovKit` package, which returns updated vector and convergence info `v, info`"
   ]
  },
  {
   "cell_type": "code",
   "execution_count": 90,
   "id": "9626195b",
   "metadata": {},
   "outputs": [
    {
     "data": {
      "text/plain": [
       "time_evolution (generic function with 1 method)"
      ]
     },
     "execution_count": 90,
     "metadata": {},
     "output_type": "execute_result"
    }
   ],
   "source": [
    "using KrylovKit: exponentiate\n",
    "\n",
    "function time_evolution(ψ, H, T, dt)\n",
    "\n",
    "    return ψ\n",
    "end\n"
   ]
  },
  {
   "cell_type": "markdown",
   "id": "801e179a",
   "metadata": {},
   "source": [
    "## Exercise 4 ( 5 min )\n",
    "\n",
    "compare execution time of `time_evolution` function (Ex 3) for different types of Hamiltonians `H(N = 14, μ = 0.5)`\n",
    "\n",
    "1. dense\n",
    "2. sparse `using SparseArrays`\n",
    "3. OPTIONAL : cuda dense (for GPU)\n",
    "\n",
    "hint: `CUDA` package has a `cu()` function that translates arrays to GPU.\n",
    "    \n",
    "\n",
    "execution time can be measured with macro @time (or better @btime from `BenchmarkTools`)"
   ]
  },
  {
   "cell_type": "code",
   "execution_count": 8,
   "id": "640824a9",
   "metadata": {},
   "outputs": [],
   "source": [
    "using SparseArrays\n",
    "using BenchmarkTools\n",
    "using LinearAlgebra\n",
    "\n"
   ]
  }
 ],
 "metadata": {
  "kernelspec": {
   "display_name": "Julia 1.8.2",
   "language": "julia",
   "name": "julia-1.8"
  },
  "language_info": {
   "file_extension": ".jl",
   "mimetype": "application/julia",
   "name": "julia",
   "version": "1.8.2"
  }
 },
 "nbformat": 4,
 "nbformat_minor": 5
}
