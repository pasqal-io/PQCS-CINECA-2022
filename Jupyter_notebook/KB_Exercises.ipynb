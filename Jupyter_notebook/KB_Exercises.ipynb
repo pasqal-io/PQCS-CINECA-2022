{
 "cells": [
  {
   "cell_type": "markdown",
   "id": "21e4894b",
   "metadata": {},
   "source": [
    "Julia language\n",
    "\n",
    "## Exercise 1 ( 10 min )\n",
    "\n",
    "(a) write a function that constructs a quantum `state` in z-basis for N qbit system in vector format.\n",
    "\n",
    "Input : string of bits \"..000101101..\"\n",
    "\n",
    "(b) write a function that constructs a quantum `Hamiltonian` for N qbit system in matrix format\n",
    "\n",
    "$H = \\sum n_i n_{i+1} - \\mu\\sum n_i$\n",
    "\n",
    "where $n = \\begin{bmatrix}\n",
    "           1 & 0 \\\\\n",
    "           0 & 0 \\\\\n",
    "         \\end{bmatrix}$\n",
    "         \n",
    "Input: number of qbits N and chemical potential $\\mu$ \n",
    "\n",
    "\n",
    "hint: one can apply kronecker product iteratively with `foldl(⊗, container)`\n"
   ]
  },
  {
   "cell_type": "code",
   "execution_count": null,
   "id": "fe85586b",
   "metadata": {},
   "outputs": [],
   "source": [
    "⊗(x, y) = kron(x, y)\n",
    "\n",
    "function psi(bitstring::string)\n",
    "\n",
    "    return state\n",
    "end\n",
    "\n",
    "function Ham(N, mu)\n",
    "\n",
    "    return Hamiltonian\n",
    "end\n"
   ]
  },
  {
   "cell_type": "markdown",
   "id": "e2b00e64",
   "metadata": {},
   "source": [
    "## Exercise 2 ( 10 min )\n",
    "\n",
    "write a function that returns a state(s) with minimal energy, i.e. \n",
    "\n",
    "$|\\psi\\rangle : \\langle \\psi |H(N, \\mu)| \\psi \\rangle = E_{min}$\n",
    "\n",
    "among z-basis states (\"..000101101..\").\n",
    "\n",
    "$H = \\sum n_i n_{i+1} - \\mu\\sum n_i$\n",
    "\n",
    "\n",
    "answer should have a following format `Pair(\"..0100100..\", psi)`\n",
    "\n",
    "hint: function that translates integer to bitsting is `string(i; base = 2, pad = string_length)`\n"
   ]
  },
  {
   "cell_type": "code",
   "execution_count": null,
   "id": "1f493ce6",
   "metadata": {},
   "outputs": [],
   "source": [
    "function psi_min(H)\n",
    "\n",
    "    return bitstring, psi\n",
    "end"
   ]
  },
  {
   "cell_type": "markdown",
   "id": "00618a92",
   "metadata": {},
   "source": [
    "## Exercise 3 ( 10 min )\n",
    "\n",
    "Write a function, that evolves in time a state. \n",
    "Evolution operator is $e^{-iHt}$\n",
    "\n",
    "hint: its much cheaper to find $e^{A} * v$ then $e^A$ and apply it to $v$.\n",
    "\n",
    "Use `exponentiate` by `using KrylovKit` package"
   ]
  },
  {
   "cell_type": "markdown",
   "id": "801e179a",
   "metadata": {},
   "source": [
    "## Exercise 4 ( 10 min )\n",
    "\n",
    "compare execution time of `time_evolution` function (Ex 3) for different types of Hamiltonian\n",
    "\n",
    "1. dense\n",
    "2. sparse\n",
    "3. cuda dense (for GPU)\n",
    "\n",
    "hint: `CUDA` package has a `cu()` function that translates arrays to GPU.\n",
    "\n",
    "execution time can be measured by macro @time or @btime from `BaseBenchmarks`"
   ]
  },
  {
   "cell_type": "markdown",
   "id": "a19d824d",
   "metadata": {},
   "source": [
    "## Exercise 5 ( 10 min )\n",
    "\n",
    "evolve 9 qbit state \"000000000\" with a Hamiltonian\n",
    "$H = \\sum n_i n_{i+1} - \\mu(t)\\sum n_i + \\frac{\\Omega(t)}{2} \\sum \\sigma^x_i$\n",
    "\n",
    "$\\Omega(t)$ and $\\mu(t)$ are linear functions in time:\n",
    "\n",
    "$\\Omega(0) = 0.0 ,\\ \\Omega(1.0) = 1.0$\n",
    "\n",
    "$\\mu(0) = -1.0 ,\\ \\Omega(1.0) = 1.0$\n"
   ]
  },
  {
   "cell_type": "code",
   "execution_count": null,
   "id": "63486666",
   "metadata": {},
   "outputs": [],
   "source": []
  },
  {
   "cell_type": "code",
   "execution_count": null,
   "id": "3059aa2d",
   "metadata": {},
   "outputs": [],
   "source": []
  }
 ],
 "metadata": {
  "kernelspec": {
   "display_name": "Julia 1.8.2",
   "language": "julia",
   "name": "julia-1.8"
  },
  "language_info": {
   "file_extension": ".jl",
   "mimetype": "application/julia",
   "name": "julia",
   "version": "1.8.2"
  }
 },
 "nbformat": 4,
 "nbformat_minor": 5
}
